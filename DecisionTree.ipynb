{
  "cells": [
    {
      "cell_type": "markdown",
      "id": "cdfd0202",
      "metadata": {},
      "source": [
        "# Lightweight Decision Tree Classification\n",
        "\n",
        "Auto-generated from `healthcare_dataset.csv`.\n",
        "\n",
        "**Target column:** `Test Results`\n",
        "\n",
        "This notebook is optimized for speed and simplicity — it drops ID columns, samples a smaller subset of the data, and keeps the target labels as text.\n",
        "\n",
        "---"
      ]
    },
    {
      "cell_type": "code",
      "execution_count": null,
      "id": "92c96bde",
      "metadata": {},
      "outputs": [],
      "source": [
        "# Imports\n",
        "import pandas as pd\n",
        "import numpy as np\n",
        "import matplotlib.pyplot as plt\n",
        "from sklearn.model_selection import train_test_split\n",
        "from sklearn.tree import DecisionTreeClassifier, plot_tree\n",
        "from sklearn.metrics import accuracy_score, confusion_matrix, classification_report\n",
        "\n",
        "plt.rcParams['figure.figsize'] = (8,5)\n"
      ]
    },
    {
      "cell_type": "code",
      "execution_count": null,
      "id": "a7611a1d",
      "metadata": {},
      "outputs": [],
      "source": [
        "# Load and preview data\n",
        "df = pd.read_csv(r\"/mnt/data/healthcare_dataset.csv\")\n",
        "print(\"Original shape:\", df.shape)\n",
        "display(df.head())\n",
        "\n",
        "# Drop ID-like columns\n",
        "id_cols = [c for c in df.columns if 'id' in c.lower()]\n",
        "if id_cols:\n",
        "    print(\"Dropping ID-like columns:\", id_cols)\n",
        "    df = df.drop(columns=id_cols)\n",
        "\n",
        "# Drop missing rows\n",
        "df = df.dropna()\n",
        "print(\"After dropping NA:\", df.shape)\n",
        "\n",
        "# Use smaller random sample for light processing\n",
        "if len(df) > 1000:\n",
        "    df = df.sample(n=1000, random_state=42)\n",
        "print(\"Sampled shape:\", df.shape)\n",
        "\n",
        "# Separate features and target\n",
        "target = \"Test Results\"\n",
        "X = df.drop(columns=[target])\n",
        "y = df[target]\n",
        "\n",
        "print(\"Features shape:\", X.shape)\n",
        "print(\"Target classes:\", y.unique())\n"
      ]
    },
    {
      "cell_type": "markdown",
      "id": "fc185e0e",
      "metadata": {},
      "source": [
        "## Preprocessing\n",
        "- One-hot encode categorical features\n",
        "- Keep target labels as text"
      ]
    },
    {
      "cell_type": "code",
      "execution_count": null,
      "id": "97f2a822",
      "metadata": {},
      "outputs": [],
      "source": [
        "# One-hot encoding for categorical features\n",
        "X = pd.get_dummies(X, drop_first=True)\n",
        "print(\"Feature shape after encoding:\", X.shape)\n"
      ]
    },
    {
      "cell_type": "code",
      "execution_count": null,
      "id": "91089809",
      "metadata": {},
      "outputs": [],
      "source": [
        "# Split data\n",
        "X_train, X_test, y_train, y_test = train_test_split(X, y, test_size=0.2, random_state=42, stratify=y if len(y.unique()) < 20 else None)\n",
        "\n",
        "# Train Decision Tree\n",
        "clf = DecisionTreeClassifier(max_depth=4, random_state=42)\n",
        "clf.fit(X_train, y_train)\n",
        "print(\"Model trained successfully.\")\n"
      ]
    },
    {
      "cell_type": "code",
      "execution_count": null,
      "id": "4e09ba78",
      "metadata": {},
      "outputs": [],
      "source": [
        "# Predictions and evaluation\n",
        "y_pred = clf.predict(X_test)\n",
        "\n",
        "print(\"Accuracy:\", round(accuracy_score(y_test, y_pred), 4))\n",
        "print(\"\\nConfusion Matrix:\")\n",
        "print(confusion_matrix(y_test, y_pred))\n",
        "print(\"\\nClassification Report:\")\n",
        "print(classification_report(y_test, y_pred))\n"
      ]
    },
    {
      "cell_type": "code",
      "execution_count": null,
      "id": "37e65a10",
      "metadata": {},
      "outputs": [],
      "source": [
        "# Simple tree visualization\n",
        "plt.figure(figsize=(10,6))\n",
        "plot_tree(clf, filled=True, feature_names=X.columns, class_names=y.unique())\n",
        "plt.show()\n"
      ]
    },
    {
      "cell_type": "markdown",
      "id": "d454dc1c",
      "metadata": {},
      "source": [
        "### Notes\n",
        "- Lightweight version for quick testing.\n",
        "- Drop 'id' columns automatically.\n",
        "- Keeps text labels for target.\n",
        "- Samples a smaller dataset if it's large.\n",
        "- For a full-scale model, disable sampling and consider tuning hyperparameters."
      ]
    }
  ],
  "metadata": {
    "kernelspec": {
      "display_name": "Python 3",
      "name": "python3"
    },
    "language_info": {
      "name": "python"
    }
  },
  "nbformat": 4,
  "nbformat_minor": 5
}